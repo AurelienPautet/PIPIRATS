{
 "cells": [
  {
   "cell_type": "markdown",
   "metadata": {},
   "source": [
    "<h1 style=\"background-color: gray;\n",
    "           color: black;\n",
    "           padding: 20px;\n",
    "           text-align: center;\">INFO</h1>\n",
    "\n",
    "In this script, we run player `Random3` in a maze, to visualize its behavior."
   ]
  },
  {
   "cell_type": "markdown",
   "metadata": {},
   "source": [
    "<h1 style=\"background-color: gray;\n",
    "           color: black;\n",
    "           padding: 20px;\n",
    "           text-align: center;\">IMPORTS</h1>"
   ]
  },
  {
   "cell_type": "code",
   "execution_count": 7,
   "metadata": {},
   "outputs": [
    {
     "ename": "ImportError",
     "evalue": "cannot import name 'Random5' from 'Random5' (c:\\Users\\aurel\\OneDrive\\Bureau\\pyratmarche\\pyrat_workspace\\games\\..\\players\\Random5.py)",
     "output_type": "error",
     "traceback": [
      "\u001b[1;31m---------------------------------------------------------------------------\u001b[0m",
      "\u001b[1;31mImportError\u001b[0m                               Traceback (most recent call last)",
      "Cell \u001b[1;32mIn[7], line 11\u001b[0m\n\u001b[0;32m      9\u001b[0m \u001b[38;5;66;03m# PyRat imports\u001b[39;00m\n\u001b[0;32m     10\u001b[0m \u001b[38;5;28;01mfrom\u001b[39;00m \u001b[38;5;21;01mpyrat\u001b[39;00m \u001b[38;5;28;01mimport\u001b[39;00m Game\n\u001b[1;32m---> 11\u001b[0m \u001b[38;5;28;01mfrom\u001b[39;00m \u001b[38;5;21;01mRandom5\u001b[39;00m \u001b[38;5;28;01mimport\u001b[39;00m Random5\n",
      "\u001b[1;31mImportError\u001b[0m: cannot import name 'Random5' from 'Random5' (c:\\Users\\aurel\\OneDrive\\Bureau\\pyratmarche\\pyrat_workspace\\games\\..\\players\\Random5.py)"
     ]
    }
   ],
   "source": [
    "# External imports\n",
    "import sys\n",
    "import os\n",
    "import pprint\n",
    "\n",
    "# Add needed directories to the path\n",
    "sys.path.append(os.path.join(\"..\", \"players\"))\n",
    "\n",
    "# PyRat imports\n",
    "from pyrat import Game\n",
    "from Random5 import Random5"
   ]
  },
  {
   "cell_type": "markdown",
   "metadata": {},
   "source": [
    "<h1 style=\"background-color: gray;\n",
    "           color: black;\n",
    "           padding: 20px;\n",
    "           text-align: center;\">CONSTANTS</h1>\n",
    "\n",
    "Let's configure the game with a dictionary."
   ]
  },
  {
   "cell_type": "code",
   "execution_count": 2,
   "metadata": {},
   "outputs": [],
   "source": [
    "# Customize the game elements\n",
    "CONFIG = {\"mud_percentage\": 0.0,\n",
    "          \"nb_cheese\": 1,\n",
    "          \"random_seed\": 42,\n",
    "          \"trace_length\": 1000}"
   ]
  },
  {
   "cell_type": "markdown",
   "metadata": {},
   "source": [
    "<h1 style=\"background-color: gray;\n",
    "           color: black;\n",
    "           padding: 20px;\n",
    "           text-align: center;\">RUN THE GAME</h1>"
   ]
  },
  {
   "cell_type": "markdown",
   "metadata": {},
   "source": [
    "We perform a single game with the configuration defined above."
   ]
  },
  {
   "cell_type": "code",
   "execution_count": 3,
   "metadata": {},
   "outputs": [],
   "source": [
    "# Instantiate a game with specified arguments\n",
    "game = Game(**CONFIG)\n",
    "\n",
    "# Instantiate a player and add it to the game\n",
    "player = Random4()\n",
    "game.add_player(player)\n",
    "\n",
    "# Start the game and\n",
    "stats = game.start()"
   ]
  },
  {
   "cell_type": "markdown",
   "metadata": {},
   "source": [
    "We visualize results using a pretty printer."
   ]
  },
  {
   "cell_type": "code",
   "execution_count": 4,
   "metadata": {},
   "outputs": [
    {
     "name": "stdout",
     "output_type": "stream",
     "text": [
      "{'players': {'Random4': {'actions': {'east': 16,\n",
      "                                     'error': 0,\n",
      "                                     'miss': 0,\n",
      "                                     'mud': 0,\n",
      "                                     'north': 23,\n",
      "                                     'nothing': 0,\n",
      "                                     'south': 27,\n",
      "                                     'wall': 0,\n",
      "                                     'west': 20},\n",
      "                         'preprocessing_duration': 0.0,\n",
      "                         'score': 1.0,\n",
      "                         'team': '',\n",
      "                         'turn_durations': [0.0,\n",
      "                                            0.0,\n",
      "                                            0.0,\n",
      "                                            0.0,\n",
      "                                            0.0,\n",
      "                                            0.0,\n",
      "                                            0.0,\n",
      "                                            0.0,\n",
      "                                            0.0,\n",
      "                                            0.0,\n",
      "                                            0.0,\n",
      "                                            0.0,\n",
      "                                            0.0,\n",
      "                                            0.0,\n",
      "                                            0.0,\n",
      "                                            0.0,\n",
      "                                            0.0,\n",
      "                                            0.0,\n",
      "                                            0.0,\n",
      "                                            0.0,\n",
      "                                            0.0,\n",
      "                                            0.0,\n",
      "                                            0.0,\n",
      "                                            0.0,\n",
      "                                            0.0,\n",
      "                                            0.0,\n",
      "                                            0.0,\n",
      "                                            0.0,\n",
      "                                            0.0,\n",
      "                                            0.0,\n",
      "                                            0.0,\n",
      "                                            0.0,\n",
      "                                            0.0,\n",
      "                                            0.0,\n",
      "                                            0.0,\n",
      "                                            0.0,\n",
      "                                            0.0,\n",
      "                                            0.0,\n",
      "                                            0.0,\n",
      "                                            0.0,\n",
      "                                            0.0,\n",
      "                                            0.0,\n",
      "                                            0.0,\n",
      "                                            0.0,\n",
      "                                            0.0,\n",
      "                                            0.0,\n",
      "                                            0.0,\n",
      "                                            0.0,\n",
      "                                            0.0,\n",
      "                                            0.0,\n",
      "                                            0.0,\n",
      "                                            0.0,\n",
      "                                            0.0,\n",
      "                                            0.0,\n",
      "                                            0.0,\n",
      "                                            0.0,\n",
      "                                            0.0,\n",
      "                                            0.0,\n",
      "                                            0.0,\n",
      "                                            0.0,\n",
      "                                            0.0,\n",
      "                                            0.0,\n",
      "                                            0.0,\n",
      "                                            0.0,\n",
      "                                            0.0,\n",
      "                                            0.0,\n",
      "                                            0.0,\n",
      "                                            0.0,\n",
      "                                            0.0,\n",
      "                                            0.0,\n",
      "                                            0.0,\n",
      "                                            0.0,\n",
      "                                            0.0,\n",
      "                                            0.0,\n",
      "                                            0.0,\n",
      "                                            0.0,\n",
      "                                            0.0,\n",
      "                                            0.0,\n",
      "                                            0.0,\n",
      "                                            0.0,\n",
      "                                            0.0,\n",
      "                                            0.0,\n",
      "                                            0.0,\n",
      "                                            0.0,\n",
      "                                            0.0,\n",
      "                                            0.0]}},\n",
      " 'turns': 86}\n"
     ]
    }
   ],
   "source": [
    "# Show statistics\n",
    "pprint.pprint(stats)"
   ]
  }
 ],
 "metadata": {
  "kernelspec": {
   "display_name": "Python 3",
   "language": "python",
   "name": "python3"
  },
  "language_info": {
   "codemirror_mode": {
    "name": "ipython",
    "version": 3
   },
   "file_extension": ".py",
   "mimetype": "text/x-python",
   "name": "python",
   "nbconvert_exporter": "python",
   "pygments_lexer": "ipython3",
   "version": "3.12.6"
  }
 },
 "nbformat": 4,
 "nbformat_minor": 2
}
